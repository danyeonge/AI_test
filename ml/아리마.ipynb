{
 "cells": [
  {
   "cell_type": "markdown",
   "id": "c867e519-6770-4013-9d7d-ffd6c58701be",
   "metadata": {},
   "source": [
    "# lec 15 시계열, arima"
   ]
  },
  {
   "cell_type": "markdown",
   "id": "5bdc5947-e9d6-46e6-9f9f-3e0beedbb7f9",
   "metadata": {},
   "source": [
    "### 1) 정의 \n",
    "* 과거 데이터의 패턴을 분석하여 미래의 값을 예측하는 방법 \n",
    "* 과거의 패턴이 미래에도 지속된다는 데이터의 안정성이 기본적인 가정으로 필요\n",
    "\n",
    "### 2) 시계열 패턴\n",
    "\n",
    "* <font color=red> $T$ </font> 추세(trend) : 데이터가 장기적으로 증가하거나 감소하는 패턴\n",
    "* <font color=red> $S$ </font>계절성(seasonality) : 주, 월, 분기, 반기 단위 등 특정 시간의 주기로 나타나는 패턴\n",
    "* <font color=red> $C$ </font>주기성(cycle) : 경기변동과 같이 정치, 경제, 사회적 요인에 의한 변화로,일정 주기가 없으며 장기적인 변화 현상\n",
    "* <font color=red> $R$ </font> 불규칙요소(Random, Residual) : 추세, 순환, 계절성은 뺀 나머지, 돌발적인 요인에 의하여 일어나는 변화로, 예측 불가능한 임이의 변동\n",
    "### 3) 시계열 패턴 분해\n",
    "* <b>덧셈 분해(additive decomposition)</b>&nbsp; Trend와 Seasonal이 별개, $ y_t = S_t+T_t+R_t $\n",
    "* <b>곱셈 분해(multiplicative decomposition)</b>&nbsp; Trend에 따라 Seasonal이 변화,  $ y_t = S_t*T_t*R_t $ , 데이터에 0이 존재해서는 안된다.\n",
    "\n",
    "<font color='blue'>\n",
    "Additive : 시간에 지남에 따라(Trend가 변화함에 따라) 변동폭이 일정&nbsp; &nbsp; &nbsp; &nbsp;\n",
    "Multiplicative : Trend가 상승함에 따라 변동폭 증가 </font>\n",
    "<img src=./img/img33.png>\n",
    "### 4) 정상성\n",
    "* 시간에 따른 평균&분산이 일정한 패턴\n",
    "\n",
    "\n",
    "### <font color=red> 5) 비정상성 데이터를 정상성(평균,분산 일정)으로 만드는 방법\n",
    "*  <font color=red>변동폭이 일정하지 않은 경우 : 로그 변환</font>\n",
    "*  <font color=red>추세, 계절성이 존재하는 경우 : 차분(y_t - y_{t-1}) </font>\n",
    "\n",
    "<pre>\n",
    "* (a)와 같이 시간에 따라 변동폭이 일정하지 않고, 추세와 계절적 영향이 존재하는 비정상 시계열 데이터\n",
    "* (b)로그변환 --> 변동폭 일정\n",
    "* (c)차분 --> 평균 일정\n",
    "* (d)로그변환+차분 --> 평균과 분산이 일정한 정상 시계열로 변환\n",
    "</pre>\n",
    "<img src='https://img1.daumcdn.net/thumb/R1280x0/?scode=mtistory2&fname=https%3A%2F%2Fblog.kakaocdn.net%2Fdn%2FcPUgQm%2Fbtq5Fhh5em0%2FhaKQOzuv0kEE3eYfLNOpLK%2Fimg.jpg'>"
   ]
  },
  {
   "cell_type": "markdown",
   "id": "1987ef17-0452-4792-a6d1-563c70b1346a",
   "metadata": {},
   "source": [
    "### AR(Autoregression) 자기상관 모델\n",
    "* <font color=red> 이전의 자신의 관측값을 이용하여 미래의 값을 예측하는 모델 --> 자기 자신의 과거를 사용(자기상관성)</font>\n",
    "* $Y_t = (Y_{t-1} * w) + …  +c + (e_t * u)$\n",
    "*  e(t) : white-noise(백색 잡음)  : 일반적인 정규분포(평균이 0, 분산이 1인 정규분포)에서 도출된 random noise 값\n",
    "*  (X(t-1) * w) + b을 평균으로 가지며 u만큼을 분산으로 가지는 정규분포를 따른다\n",
    "* <img src=\"https://www.machinelearningplus.com/wp-content/uploads/2019/02/Equation-1-min.png\" width=400>"
   ]
  },
  {
   "cell_type": "markdown",
   "id": "de00ef99-87a8-455b-8fa6-f45b9a381476",
   "metadata": {},
   "source": [
    "### ARMA(Autoregressive Moving Average) 모델\n",
    "* AR + MA 결합\n",
    "* <img src='https://t1.daumcdn.net/cfile/tistory/99EAB33A5C39D1AD27'>"
   ]
  },
  {
   "cell_type": "markdown",
   "id": "ef180b5c-e51e-4901-9f95-5cc57ac7fe41",
   "metadata": {},
   "source": [
    "### ARIMA(p, d, q) 모수 설정\n",
    "* <font color=red>d차 차분한 데이터에 AR과 MA 모형을 합친 모델 --> AR모형의 Lag : p,  MA모형의 Lag : q, 차분(Diffrence)횟수 : d </font>\n",
    "* AR(p) = ARIMA(p, 0, 0)\n",
    "* MA(q) = ARIMA(0, 0, q)\n",
    "* ARMA(p, q) = ARIMA(p, 0, q)"
   ]
  },
  {
   "cell_type": "markdown",
   "id": "1c06c35a-5c1a-4edc-90d2-4344573a1745",
   "metadata": {},
   "source": [
    "<h3>ACF(Autocorrelation function) :자기상관함수 </h3>\n",
    "<pre>\n",
    "* 시차에 따른 관측치들 사이의 관련성(자기상관성)을 측정하는 함수\n",
    "* 정상계열: 빠르게 0에 수렴, 비정상계열:천천히 감소\n",
    "</pre>\n",
    "\n",
    "<h3>PACF(Partial autocorrelation function) :편자기상관함수 </h3>\n",
    "<pre>\n",
    "* k 이외의 모든 다른 시점 관측치의 영향력을 배제하고  y_t와 y_t_k 두 관측치의 관련성을 측정하는 함수 </pre>\n",
    "\n",
    "---\n",
    "* AR의 특성을 띄는 경우, ACF는 천천히 감소하고 PACF는 시차 p이후 급격히 감소\n",
    "* MA의 특성을 띄는 경우, ACF는 시차 q이후 급격히 감소하고 PACF는 천천히 감소\n",
    "* 급격히 감소하는 시차를 각 AR과 MA 모형의 모수(p, q)로 사용"
   ]
  },
  {
   "cell_type": "markdown",
   "id": "31cea208-810a-4177-9de1-08774bec24d3",
   "metadata": {},
   "source": [
    "https://www.statsmodels.org/dev/generated/statsmodels.tsa.arima.model.ARIMA.html"
   ]
  },
  {
   "cell_type": "markdown",
   "id": "9956f031-a431-40d6-bf77-0b210017b917",
   "metadata": {},
   "source": [
    "```PYTHON\n",
    "class statsmodels.tsa.arima.model.ARIMA(endog, exog=None, order=(0, 0, 0), seasonal_order=(0, 0, 0, 0), trend=None, enforce_stationarity=True, enforce_invertibility=True, concentrate_scale=False, trend_offset=1, dates=None, freq=None, missing='none', validate_specification=True)\n",
    "```"
   ]
  },
  {
   "cell_type": "markdown",
   "id": "8673810d-2f86-43fd-bd73-738ac572ef82",
   "metadata": {},
   "source": [
    "# 실습: 날씨예측\n",
    "* https://www.kaggle.com/datasets/smid80/weatherww2"
   ]
  },
  {
   "cell_type": "code",
   "execution_count": 1,
   "id": "1a730c13-7fd3-4bee-9d68-7c96e692c35b",
   "metadata": {},
   "outputs": [],
   "source": [
    "import numpy as np\n",
    "import pandas as pd\n",
    "import matplotlib.pyplot as plt\n",
    "import seaborn as sns\n",
    "\n",
    "\n",
    "# ------------------------------------------------------ 훈련데이터\n",
    "from sklearn.datasets import load_iris\n",
    "# --------------------------------------------------------------------------\n",
    "from sklearn.model_selection import train_test_split\n",
    "# -------------------------------------------------------------------------- 정규화\n",
    "from sklearn.preprocessing import StandardScaler, MinMaxScaler, RobustScaler\n",
    "# -------------------------------------------------------------------------- 인코딩\n",
    "from sklearn.preprocessing import LabelEncoder, OneHotEncoder\n",
    "# -------------------------------------------------------------------------- 모델\n",
    "from sklearn.cluster import KMeans, DBSCAN\n",
    "# -------------------------------------------------------------------------- 평가\n",
    "from sklearn.metrics import silhouette_score\n",
    "# -------------------------------------------------------------------------- 교차검증\n",
    "\n",
    "\n",
    "import warnings\n",
    "warnings.filterwarnings(action=\"ignore\")"
   ]
  },
  {
   "cell_type": "code",
   "execution_count": 23,
   "id": "90eeabdb-4eca-4d94-8021-e067a41ba767",
   "metadata": {},
   "outputs": [
    {
     "data": {
      "text/html": [
       "<div>\n",
       "<style scoped>\n",
       "    .dataframe tbody tr th:only-of-type {\n",
       "        vertical-align: middle;\n",
       "    }\n",
       "\n",
       "    .dataframe tbody tr th {\n",
       "        vertical-align: top;\n",
       "    }\n",
       "\n",
       "    .dataframe thead th {\n",
       "        text-align: right;\n",
       "    }\n",
       "</style>\n",
       "<table border=\"1\" class=\"dataframe\">\n",
       "  <thead>\n",
       "    <tr style=\"text-align: right;\">\n",
       "      <th></th>\n",
       "      <th>sta</th>\n",
       "      <th>temp</th>\n",
       "    </tr>\n",
       "    <tr>\n",
       "      <th>rdate</th>\n",
       "      <th></th>\n",
       "      <th></th>\n",
       "    </tr>\n",
       "  </thead>\n",
       "  <tbody>\n",
       "    <tr>\n",
       "      <th>1942-07-01</th>\n",
       "      <td>10001</td>\n",
       "      <td>23.888889</td>\n",
       "    </tr>\n",
       "    <tr>\n",
       "      <th>1942-07-02</th>\n",
       "      <td>10001</td>\n",
       "      <td>25.555556</td>\n",
       "    </tr>\n",
       "    <tr>\n",
       "      <th>1942-07-03</th>\n",
       "      <td>10001</td>\n",
       "      <td>24.444444</td>\n",
       "    </tr>\n",
       "    <tr>\n",
       "      <th>1942-07-04</th>\n",
       "      <td>10001</td>\n",
       "      <td>24.444444</td>\n",
       "    </tr>\n",
       "    <tr>\n",
       "      <th>1942-07-05</th>\n",
       "      <td>10001</td>\n",
       "      <td>24.444444</td>\n",
       "    </tr>\n",
       "  </tbody>\n",
       "</table>\n",
       "</div>"
      ],
      "text/plain": [
       "              sta       temp\n",
       "rdate                       \n",
       "1942-07-01  10001  23.888889\n",
       "1942-07-02  10001  25.555556\n",
       "1942-07-03  10001  24.444444\n",
       "1942-07-04  10001  24.444444\n",
       "1942-07-05  10001  24.444444"
      ]
     },
     "execution_count": 23,
     "metadata": {},
     "output_type": "execute_result"
    }
   ],
   "source": [
    "df = pd.read_csv('Summary of Weather.csv', parse_dates=['Date'])[['STA','Date','MeanTemp']]\n",
    "df.columns=['sta','rdate','temp']\n",
    "df = df.set_index('rdate')\n",
    "df.head()"
   ]
  },
  {
   "cell_type": "code",
   "execution_count": 26,
   "id": "4d749218-4ec7-4607-bd31-9a96716ed4e3",
   "metadata": {},
   "outputs": [
    {
     "data": {
      "text/html": [
       "<div>\n",
       "<style scoped>\n",
       "    .dataframe tbody tr th:only-of-type {\n",
       "        vertical-align: middle;\n",
       "    }\n",
       "\n",
       "    .dataframe tbody tr th {\n",
       "        vertical-align: top;\n",
       "    }\n",
       "\n",
       "    .dataframe thead th {\n",
       "        text-align: right;\n",
       "    }\n",
       "</style>\n",
       "<table border=\"1\" class=\"dataframe\">\n",
       "  <thead>\n",
       "    <tr style=\"text-align: right;\">\n",
       "      <th></th>\n",
       "      <th>sta</th>\n",
       "      <th>temp</th>\n",
       "    </tr>\n",
       "    <tr>\n",
       "      <th>rdate</th>\n",
       "      <th></th>\n",
       "      <th></th>\n",
       "    </tr>\n",
       "  </thead>\n",
       "  <tbody>\n",
       "    <tr>\n",
       "      <th>1942-07-01</th>\n",
       "      <td>10001</td>\n",
       "      <td>23.888889</td>\n",
       "    </tr>\n",
       "    <tr>\n",
       "      <th>1942-07-02</th>\n",
       "      <td>10001</td>\n",
       "      <td>25.555556</td>\n",
       "    </tr>\n",
       "    <tr>\n",
       "      <th>1942-07-03</th>\n",
       "      <td>10001</td>\n",
       "      <td>24.444444</td>\n",
       "    </tr>\n",
       "    <tr>\n",
       "      <th>1942-07-04</th>\n",
       "      <td>10001</td>\n",
       "      <td>24.444444</td>\n",
       "    </tr>\n",
       "    <tr>\n",
       "      <th>1942-07-05</th>\n",
       "      <td>10001</td>\n",
       "      <td>24.444444</td>\n",
       "    </tr>\n",
       "  </tbody>\n",
       "</table>\n",
       "</div>"
      ],
      "text/plain": [
       "              sta       temp\n",
       "rdate                       \n",
       "1942-07-01  10001  23.888889\n",
       "1942-07-02  10001  25.555556\n",
       "1942-07-03  10001  24.444444\n",
       "1942-07-04  10001  24.444444\n",
       "1942-07-05  10001  24.444444"
      ]
     },
     "execution_count": 26,
     "metadata": {},
     "output_type": "execute_result"
    }
   ],
   "source": [
    "df = df[df['sta']==10001]\n",
    "df.head()"
   ]
  },
  {
   "cell_type": "code",
   "execution_count": 27,
   "id": "e4e35fd5-d3cc-46a2-9def-3da32566ab80",
   "metadata": {},
   "outputs": [],
   "source": [
    "df.drop('sta',axis=1,inplace=True)"
   ]
  },
  {
   "cell_type": "code",
   "execution_count": 28,
   "id": "f76c0e84-f745-4583-aa05-8666b646da4f",
   "metadata": {},
   "outputs": [
    {
     "name": "stdout",
     "output_type": "stream",
     "text": [
      "<class 'pandas.core.frame.DataFrame'>\n",
      "DatetimeIndex: 1157 entries, 1942-07-01 to 1945-08-31\n",
      "Data columns (total 1 columns):\n",
      " #   Column  Non-Null Count  Dtype  \n",
      "---  ------  --------------  -----  \n",
      " 0   temp    1157 non-null   float64\n",
      "dtypes: float64(1)\n",
      "memory usage: 18.1 KB\n"
     ]
    }
   ],
   "source": [
    "df.info()"
   ]
  },
  {
   "cell_type": "code",
   "execution_count": 30,
   "id": "8c2c79de-3f09-4839-85ff-9fc53088baee",
   "metadata": {},
   "outputs": [
    {
     "data": {
      "text/html": [
       "<div>\n",
       "<style scoped>\n",
       "    .dataframe tbody tr th:only-of-type {\n",
       "        vertical-align: middle;\n",
       "    }\n",
       "\n",
       "    .dataframe tbody tr th {\n",
       "        vertical-align: top;\n",
       "    }\n",
       "\n",
       "    .dataframe thead th {\n",
       "        text-align: right;\n",
       "    }\n",
       "</style>\n",
       "<table border=\"1\" class=\"dataframe\">\n",
       "  <thead>\n",
       "    <tr style=\"text-align: right;\">\n",
       "      <th></th>\n",
       "      <th>temp</th>\n",
       "    </tr>\n",
       "  </thead>\n",
       "  <tbody>\n",
       "    <tr>\n",
       "      <th>count</th>\n",
       "      <td>1157.000000</td>\n",
       "    </tr>\n",
       "    <tr>\n",
       "      <th>mean</th>\n",
       "      <td>26.514933</td>\n",
       "    </tr>\n",
       "    <tr>\n",
       "      <th>std</th>\n",
       "      <td>1.777196</td>\n",
       "    </tr>\n",
       "    <tr>\n",
       "      <th>min</th>\n",
       "      <td>20.555556</td>\n",
       "    </tr>\n",
       "    <tr>\n",
       "      <th>25%</th>\n",
       "      <td>25.000000</td>\n",
       "    </tr>\n",
       "    <tr>\n",
       "      <th>50%</th>\n",
       "      <td>26.666667</td>\n",
       "    </tr>\n",
       "    <tr>\n",
       "      <th>75%</th>\n",
       "      <td>27.777778</td>\n",
       "    </tr>\n",
       "    <tr>\n",
       "      <th>max</th>\n",
       "      <td>30.555556</td>\n",
       "    </tr>\n",
       "  </tbody>\n",
       "</table>\n",
       "</div>"
      ],
      "text/plain": [
       "              temp\n",
       "count  1157.000000\n",
       "mean     26.514933\n",
       "std       1.777196\n",
       "min      20.555556\n",
       "25%      25.000000\n",
       "50%      26.666667\n",
       "75%      27.777778\n",
       "max      30.555556"
      ]
     },
     "execution_count": 30,
     "metadata": {},
     "output_type": "execute_result"
    }
   ],
   "source": [
    "df.describe()"
   ]
  },
  {
   "cell_type": "code",
   "execution_count": 33,
   "id": "0a003b0a-1a5f-44b2-b3b3-3f4cfbe700a7",
   "metadata": {},
   "outputs": [
    {
     "data": {
      "image/png": "[encoded data removed]",
      "text/plain": [
       "<Figure size 1200x400 with 1 Axes>"
      ]
     },
     "metadata": {},
     "output_type": "display_data"
    }
   ],
   "source": [
    "plt.figure(figsize=(12,4))\n",
    "plt.plot(df)\n",
    "plt.show()"
   ]
  },
  {
   "cell_type": "markdown",
   "id": "bea95870-7640-4d54-9654-ea888308572b",
   "metadata": {},
   "source": [
    "# 시계열 분해\n",
    "\n",
    "``` python\n",
    "statsmodels.tsa.seasonal.seasonal_decompose(x, model='additive', filt=None, period=None, two_sided=True, extrapolate_trend=0)\n",
    "```\n",
    "addictive -> 덧셈분해\n",
    "\n",
    "* ref: https://www.statsmodels.org/stable/generated/statsmodels.tsa.seasonal.seasonal_decompose.html"
   ]
  },
  {
   "cell_type": "code",
   "execution_count": 34,
   "id": "60896751-9b8a-48ea-9a76-8fc5b6dd8a12",
   "metadata": {},
   "outputs": [],
   "source": [
    "from statsmodels.tsa.seasonal import seasonal_decompose"
   ]
  },
  {
   "cell_type": "code",
   "execution_count": 41,
   "id": "89c82034-f233-4571-a042-aa76b602050f",
   "metadata": {},
   "outputs": [
    {
     "data": {
      "text/plain": [
       "<Figure size 1200x400 with 0 Axes>"
      ]
     },
     "metadata": {},
     "output_type": "display_data"
    },
    {
     "data": {
      "image/png": "[encoded data removed]",
      "text/plain": [
       "<Figure size 640x480 with 4 Axes>"
      ]
     },
     "metadata": {},
     "output_type": "display_data"
    }
   ],
   "source": [
    "res = seasonal_decompose(df['temp'], model='additive', period=12)\n",
    "# period: default 'month'\n",
    "# 시계열 기본 조건은 1년\n",
    "# 일별은 데이터량이 적어서 학습이 잘 안된다\n",
    "plt.figure(figsize=(12,4))\n",
    "res.plot()\n",
    "plt.show()"
   ]
  },
  {
   "cell_type": "markdown",
   "id": "916e6e39-7a2d-42db-992d-ad05a3226abf",
   "metadata": {},
   "source": [
    "## 평균일정, 분산일정 => 정상성의 특징"
   ]
  },
  {
   "cell_type": "markdown",
   "id": "6b9007de-617e-41c9-8113-5a4eb99ec9bb",
   "metadata": {},
   "source": [
    "whitenoise - 잔차 아웃라이어"
   ]
  },
  {
   "cell_type": "markdown",
   "id": "70c4492f-7d23-4b16-8f23-6d737fd42e47",
   "metadata": {},
   "source": [
    "## 정상성 검정\r",
    "* <b>Augmented Dickey-Fuller test(ADF)</b>\r",
    "    * 검정 조건 ( p-value : 5% 이내면 reject으로 대체가설 선택됨 )\r",
    "    * <font color=red><b>귀무가설(H0): non-stationary.\r",
    "    * <font color=red><b>대체가설 (H1): stationary.\r",
    "\r",
    "<pre>\r",
    "statsmodels.tsa.stattools.adfuller(x, maxlag=None, regression='c', autolag='AIC', store=False, regresults=False)\r",
    "\r",
    "return\r",
    "adf\r",
    "The test statistic.\r",
    "\r",
    "<b>pvalue\r",
    "MacKinnon’s approximate p-value based on MacKinnon (1994, 2010).</b>\r",
    "\r",
    "usedlag\r",
    "The number of lags used.\r",
    "\r",
    "nobs\r",
    "The number of observations used for the ADF regression and calculation of the critical values.\r",
    "\r",
    "critical values\r",
    "Critical values for the test statistic at the 1 %, 5 %, and 10 % levels. Based on MacKinnon (2010).\r",
    "\r",
    "icbest\r",
    "The maximized information criterion if autolag is not None.\r",
    "\r",
    "resstore\r",
    "A dummy class with results attached as attributes."
   ]
  },
  {
   "cell_type": "markdown",
   "id": "91c40072-0f18-4b8f-9e1c-15cd86d58992",
   "metadata": {},
   "source": [
    "* H0(귀무): 시계열 데이터는 일반적으로 비정상성을 띈다 (랜덤워크)\n",
    "* H1(대립): 아니다! 정상성. 분석가능!"
   ]
  },
  {
   "cell_type": "markdown",
   "id": "77135b13-5fc3-4056-ab6b-a7b2dc0d4a2a",
   "metadata": {},
   "source": [
    "``` python\n",
    "statsmodels.tsa.stattools.adfuller(x, maxlag=None, regression='c', autolag='AIC', store=False, regresults=False)\n",
    "```"
   ]
  },
  {
   "cell_type": "markdown",
   "id": "5cbd5ac1-4c25-49d7-82e2-353f12145341",
   "metadata": {},
   "source": [
    "<pre>\n",
    "AIC:\n",
    "OLS report\n",
    "손실 가중치 계산 (낮을 수록 좋다)\n",
    "X피쳐\n",
    "모델 적합도\n",
    "선형회귀 규제와 비슷"
   ]
  },
  {
   "cell_type": "code",
   "execution_count": 43,
   "id": "6921232e-3ac8-4806-b7d5-f49a8dea44c1",
   "metadata": {},
   "outputs": [],
   "source": [
    "from statsmodels.tsa.stattools import adfuller"
   ]
  },
  {
   "cell_type": "code",
   "execution_count": 46,
   "id": "136af95c-8ef1-473d-83f0-a2bd0ba3c656",
   "metadata": {},
   "outputs": [
    {
     "data": {
      "text/plain": [
       "(-2.411973896374036,\n",
       " 0.13838534571230615,\n",
       " 12,\n",
       " 1144,\n",
       " {'1%': -3.436079050499444,\n",
       "  '5%': -2.8640697479399972,\n",
       "  '10%': -2.5681169015905425},\n",
       " 2851.0688744560252)"
      ]
     },
     "execution_count": 46,
     "metadata": {},
     "output_type": "execute_result"
    }
   ],
   "source": [
    "res = adfuller(df, autolag='AIC')\n",
    "res"
   ]
  },
  {
   "cell_type": "code",
   "execution_count": 48,
   "id": "d632a375-8deb-4100-adfa-c9ee5b9d1d39",
   "metadata": {},
   "outputs": [
    {
     "data": {
      "text/plain": [
       "0.13838534571230615"
      ]
     },
     "execution_count": 48,
     "metadata": {},
     "output_type": "execute_result"
    }
   ],
   "source": [
    "res[1]\n",
    "# 유의수준 0.05보다 크다(pvalue): 귀무가설 채택! "
   ]
  },
  {
   "cell_type": "code",
   "execution_count": 59,
   "id": "7e088c74-691c-4920-85ba-9a5179d1a2c8",
   "metadata": {},
   "outputs": [
    {
     "data": {
      "text/plain": [
       "(                 temp\n",
       " rdate                \n",
       " 1942-07-01  23.888889\n",
       " 1942-07-02  25.555556\n",
       " 1942-07-03  24.444444\n",
       " 1942-07-04  24.444444\n",
       " 1942-07-05  24.444444,\n",
       "                  temp\n",
       " rdate                \n",
       " 1942-07-01  25.555556\n",
       " 1942-07-02  24.444444\n",
       " 1942-07-03  24.444444\n",
       " 1942-07-04  24.444444\n",
       " 1942-07-05        NaN,\n",
       "                  temp\n",
       " rdate                \n",
       " 1942-07-01        NaN\n",
       " 1942-07-02  23.888889\n",
       " 1942-07-03  25.555556\n",
       " 1942-07-04  24.444444\n",
       " 1942-07-05  24.444444)"
      ]
     },
     "execution_count": 59,
     "metadata": {},
     "output_type": "execute_result"
    }
   ],
   "source": [
    "temp=df[:5]\n",
    "temp, temp.shift(-1), temp.shift(1) #1,2,-1,,,"
   ]
  },
  {
   "cell_type": "markdown",
   "id": "dde42859-456b-4948-b232-78baeac518b9",
   "metadata": {},
   "source": [
    "# 데이터 정상성 변환\n",
    "* 분산: 로그변환\n",
    "* 평균: 차분 df.shift() - 1일차분, 결측처리 반드시"
   ]
  },
  {
   "cell_type": "markdown",
   "id": "5cae28df-ce0b-4383-8789-81e77cef2fc3",
   "metadata": {},
   "source": [
    "# 데이터 전후값으로 채워라\n",
    "-결측처리는\n",
    "-ffill(폭포는 아래로), bfill"
   ]
  },
  {
   "cell_type": "code",
   "execution_count": 60,
   "id": "50f48925-0c99-4eef-bf21-d624f8068a34",
   "metadata": {},
   "outputs": [
    {
     "data": {
      "text/html": [
       "<div>\n",
       "<style scoped>\n",
       "    .dataframe tbody tr th:only-of-type {\n",
       "        vertical-align: middle;\n",
       "    }\n",
       "\n",
       "    .dataframe tbody tr th {\n",
       "        vertical-align: top;\n",
       "    }\n",
       "\n",
       "    .dataframe thead th {\n",
       "        text-align: right;\n",
       "    }\n",
       "</style>\n",
       "<table border=\"1\" class=\"dataframe\">\n",
       "  <thead>\n",
       "    <tr style=\"text-align: right;\">\n",
       "      <th></th>\n",
       "      <th>temp</th>\n",
       "    </tr>\n",
       "    <tr>\n",
       "      <th>rdate</th>\n",
       "      <th></th>\n",
       "    </tr>\n",
       "  </thead>\n",
       "  <tbody>\n",
       "    <tr>\n",
       "      <th>1942-07-01</th>\n",
       "      <td>23.888889</td>\n",
       "    </tr>\n",
       "    <tr>\n",
       "      <th>1942-07-02</th>\n",
       "      <td>23.888889</td>\n",
       "    </tr>\n",
       "    <tr>\n",
       "      <th>1942-07-03</th>\n",
       "      <td>25.555556</td>\n",
       "    </tr>\n",
       "    <tr>\n",
       "      <th>1942-07-04</th>\n",
       "      <td>24.444444</td>\n",
       "    </tr>\n",
       "    <tr>\n",
       "      <th>1942-07-05</th>\n",
       "      <td>24.444444</td>\n",
       "    </tr>\n",
       "  </tbody>\n",
       "</table>\n",
       "</div>"
      ],
      "text/plain": [
       "                 temp\n",
       "rdate                \n",
       "1942-07-01  23.888889\n",
       "1942-07-02  23.888889\n",
       "1942-07-03  25.555556\n",
       "1942-07-04  24.444444\n",
       "1942-07-05  24.444444"
      ]
     },
     "execution_count": 60,
     "metadata": {},
     "output_type": "execute_result"
    }
   ],
   "source": [
    "temp = temp.shift()\n",
    "temp.fillna(method='bfill', inplace=True)\n",
    "temp"
   ]
  },
  {
   "cell_type": "code",
   "execution_count": 61,
   "id": "0eb46428-58dd-4224-b7c3-d5dffce062a8",
   "metadata": {},
   "outputs": [
    {
     "data": {
      "text/html": [
       "<div>\n",
       "<style scoped>\n",
       "    .dataframe tbody tr th:only-of-type {\n",
       "        vertical-align: middle;\n",
       "    }\n",
       "\n",
       "    .dataframe tbody tr th {\n",
       "        vertical-align: top;\n",
       "    }\n",
       "\n",
       "    .dataframe thead th {\n",
       "        text-align: right;\n",
       "    }\n",
       "</style>\n",
       "<table border=\"1\" class=\"dataframe\">\n",
       "  <thead>\n",
       "    <tr style=\"text-align: right;\">\n",
       "      <th></th>\n",
       "      <th>temp</th>\n",
       "    </tr>\n",
       "    <tr>\n",
       "      <th>rdate</th>\n",
       "      <th></th>\n",
       "    </tr>\n",
       "  </thead>\n",
       "  <tbody>\n",
       "    <tr>\n",
       "      <th>1942-07-01</th>\n",
       "      <td>23.888889</td>\n",
       "    </tr>\n",
       "    <tr>\n",
       "      <th>1942-07-02</th>\n",
       "      <td>25.555556</td>\n",
       "    </tr>\n",
       "    <tr>\n",
       "      <th>1942-07-03</th>\n",
       "      <td>24.444444</td>\n",
       "    </tr>\n",
       "    <tr>\n",
       "      <th>1942-07-04</th>\n",
       "      <td>24.444444</td>\n",
       "    </tr>\n",
       "    <tr>\n",
       "      <th>1942-07-05</th>\n",
       "      <td>24.444444</td>\n",
       "    </tr>\n",
       "  </tbody>\n",
       "</table>\n",
       "</div>"
      ],
      "text/plain": [
       "                 temp\n",
       "rdate                \n",
       "1942-07-01  23.888889\n",
       "1942-07-02  25.555556\n",
       "1942-07-03  24.444444\n",
       "1942-07-04  24.444444\n",
       "1942-07-05  24.444444"
      ]
     },
     "execution_count": 61,
     "metadata": {},
     "output_type": "execute_result"
    }
   ],
   "source": [
    "temp = temp.shift(-1)\n",
    "temp.fillna(method='ffill', inplace=True)\n",
    "temp"
   ]
  },
  {
   "cell_type": "code",
   "execution_count": 68,
   "id": "79b3be03-9db7-4838-98a5-e17cb08119b9",
   "metadata": {},
   "outputs": [
    {
     "data": {
      "text/html": [
       "<div>\n",
       "<style scoped>\n",
       "    .dataframe tbody tr th:only-of-type {\n",
       "        vertical-align: middle;\n",
       "    }\n",
       "\n",
       "    .dataframe tbody tr th {\n",
       "        vertical-align: top;\n",
       "    }\n",
       "\n",
       "    .dataframe thead th {\n",
       "        text-align: right;\n",
       "    }\n",
       "</style>\n",
       "<table border=\"1\" class=\"dataframe\">\n",
       "  <thead>\n",
       "    <tr style=\"text-align: right;\">\n",
       "      <th></th>\n",
       "      <th>temp</th>\n",
       "    </tr>\n",
       "    <tr>\n",
       "      <th>rdate</th>\n",
       "      <th></th>\n",
       "    </tr>\n",
       "  </thead>\n",
       "  <tbody>\n",
       "    <tr>\n",
       "      <th>1942-07-01</th>\n",
       "      <td>1.666667</td>\n",
       "    </tr>\n",
       "    <tr>\n",
       "      <th>1942-07-02</th>\n",
       "      <td>1.666667</td>\n",
       "    </tr>\n",
       "    <tr>\n",
       "      <th>1942-07-03</th>\n",
       "      <td>-1.111111</td>\n",
       "    </tr>\n",
       "    <tr>\n",
       "      <th>1942-07-04</th>\n",
       "      <td>0.000000</td>\n",
       "    </tr>\n",
       "    <tr>\n",
       "      <th>1942-07-05</th>\n",
       "      <td>0.000000</td>\n",
       "    </tr>\n",
       "    <tr>\n",
       "      <th>...</th>\n",
       "      <td>...</td>\n",
       "    </tr>\n",
       "    <tr>\n",
       "      <th>1945-08-27</th>\n",
       "      <td>0.000000</td>\n",
       "    </tr>\n",
       "    <tr>\n",
       "      <th>1945-08-28</th>\n",
       "      <td>-1.111111</td>\n",
       "    </tr>\n",
       "    <tr>\n",
       "      <th>1945-08-29</th>\n",
       "      <td>0.000000</td>\n",
       "    </tr>\n",
       "    <tr>\n",
       "      <th>1945-08-30</th>\n",
       "      <td>1.111111</td>\n",
       "    </tr>\n",
       "    <tr>\n",
       "      <th>1945-08-31</th>\n",
       "      <td>0.000000</td>\n",
       "    </tr>\n",
       "  </tbody>\n",
       "</table>\n",
       "<p>1157 rows × 1 columns</p>\n",
       "</div>"
      ],
      "text/plain": [
       "                temp\n",
       "rdate               \n",
       "1942-07-01  1.666667\n",
       "1942-07-02  1.666667\n",
       "1942-07-03 -1.111111\n",
       "1942-07-04  0.000000\n",
       "1942-07-05  0.000000\n",
       "...              ...\n",
       "1945-08-27  0.000000\n",
       "1945-08-28 -1.111111\n",
       "1945-08-29  0.000000\n",
       "1945-08-30  1.111111\n",
       "1945-08-31  0.000000\n",
       "\n",
       "[1157 rows x 1 columns]"
      ]
     },
     "execution_count": 68,
     "metadata": {},
     "output_type": "execute_result"
    }
   ],
   "source": [
    "df_diff = df - df.shift()\n",
    "df_diff.fillna(method='bfill')"
   ]
  },
  {
   "cell_type": "code",
   "execution_count": 69,
   "id": "18264bf6-6ad7-4f23-84be-e854dcfef974",
   "metadata": {},
   "outputs": [
    {
     "data": {
      "image/png": "[encoded data removed]",
      "text/plain": [
       "<Figure size 1000x300 with 2 Axes>"
      ]
     },
     "metadata": {},
     "output_type": "display_data"
    }
   ],
   "source": [
    "from statsmodels.graphics.tsaplots import plot_acf, plot_pacf\n",
    "\n",
    "plt.figure(figsize=(10,3))\n",
    "ax1 = plt.subplot(1,2,1)\n",
    "plot_acf(df_diff,   ax=ax1)\n",
    "\n",
    "ax2 = plt.subplot(1,2,2)\n",
    "plot_pacf(df_diff,   ax=ax2)\n",
    "\n",
    "plt.show()"
   ]
  },
  {
   "cell_type": "code",
   "execution_count": null,
   "id": "09a4b839-45cc-4b75-8b94-18c996a32fa3",
   "metadata": {},
   "outputs": [],
   "source": []
  },
  {
   "cell_type": "code",
   "execution_count": null,
   "id": "37665f19-b367-4822-a621-30cb45fbd0fa",
   "metadata": {},
   "outputs": [],
   "source": []
  },
  {
   "cell_type": "code",
   "execution_count": null,
   "id": "1a76a6e6-5a94-428c-96bc-0674574a7bd6",
   "metadata": {},
   "outputs": [],
   "source": []
  },
  {
   "cell_type": "code",
   "execution_count": null,
   "id": "d0ae9545-6feb-40ce-a6a9-fd4180da9703",
   "metadata": {},
   "outputs": [],
   "source": []
  },
  {
   "cell_type": "code",
   "execution_count": null,
   "id": "8b2596fe-a005-477e-a23f-608016b21744",
   "metadata": {},
   "outputs": [],
   "source": []
  },
  {
   "cell_type": "code",
   "execution_count": null,
   "id": "63944a53-f373-41ae-9705-a568a7fe7548",
   "metadata": {},
   "outputs": [],
   "source": []
  },
  {
   "cell_type": "code",
   "execution_count": null,
   "id": "61587b7e-49df-4f0c-80d4-09183a521d98",
   "metadata": {},
   "outputs": [],
   "source": []
  },
  {
   "cell_type": "code",
   "execution_count": null,
   "id": "b2e42135-a418-451c-9199-3499be44e334",
   "metadata": {},
   "outputs": [],
   "source": []
  },
  {
   "cell_type": "code",
   "execution_count": null,
   "id": "fff90a12-53c3-4452-a3c8-15a91d0e9caa",
   "metadata": {},
   "outputs": [],
   "source": []
  },
  {
   "cell_type": "code",
   "execution_count": null,
   "id": "46fbcd12-c786-4b87-8b88-75be82688ca3",
   "metadata": {},
   "outputs": [],
   "source": []
  },
  {
   "cell_type": "code",
   "execution_count": null,
   "id": "236923ad-2125-4c9d-a05d-166f394fe726",
   "metadata": {},
   "outputs": [],
   "source": []
  },
  {
   "cell_type": "code",
   "execution_count": null,
   "id": "eefe862d-dad0-4f3b-b48d-f1e19afc1ab7",
   "metadata": {},
   "outputs": [],
   "source": []
  },
  {
   "cell_type": "code",
   "execution_count": null,
   "id": "6d20fad4-2b1f-46e6-9ea5-f18815f3cd00",
   "metadata": {},
   "outputs": [],
   "source": []
  },
  {
   "cell_type": "code",
   "execution_count": null,
   "id": "46d596ce-a6ac-4862-818c-8705317ebb14",
   "metadata": {},
   "outputs": [],
   "source": []
  },
  {
   "cell_type": "code",
   "execution_count": null,
   "id": "a1868ff8-cd02-4f0a-a358-cf70d39a2094",
   "metadata": {},
   "outputs": [],
   "source": []
  },
  {
   "cell_type": "code",
   "execution_count": null,
   "id": "e7dd82e2-ea34-4818-99b3-fd6c1c7aaf9d",
   "metadata": {},
   "outputs": [],
   "source": []
  },
  {
   "cell_type": "code",
   "execution_count": null,
   "id": "e6aa933a-2d68-4691-9437-76c8d6171de3",
   "metadata": {},
   "outputs": [],
   "source": []
  },
  {
   "cell_type": "code",
   "execution_count": null,
   "id": "1696a6f6-58a3-44ea-8e39-62f687e7199b",
   "metadata": {},
   "outputs": [],
   "source": []
  },
  {
   "cell_type": "code",
   "execution_count": null,
   "id": "820e4ee2-2843-4b26-9c5e-c485bc694b4c",
   "metadata": {},
   "outputs": [],
   "source": []
  },
  {
   "cell_type": "code",
   "execution_count": null,
   "id": "694b3dd4-ae01-49a0-93d9-c4a12190a042",
   "metadata": {},
   "outputs": [],
   "source": []
  },
  {
   "cell_type": "code",
   "execution_count": null,
   "id": "62bc844e-c156-43e5-b2d7-41572d0f31b1",
   "metadata": {},
   "outputs": [],
   "source": []
  },
  {
   "cell_type": "code",
   "execution_count": null,
   "id": "7db18600-6152-440b-b5e1-c515725ab39e",
   "metadata": {},
   "outputs": [],
   "source": []
  },
  {
   "cell_type": "code",
   "execution_count": null,
   "id": "b925dcbd-c308-41ae-9601-f165f79d4b34",
   "metadata": {},
   "outputs": [],
   "source": []
  },
  {
   "cell_type": "code",
   "execution_count": null,
   "id": "0f5118cb-ec0a-49d0-a691-5ebb77710efb",
   "metadata": {},
   "outputs": [],
   "source": []
  },
  {
   "cell_type": "code",
   "execution_count": null,
   "id": "89c2bb8e-9297-4188-bc6e-6c065ef2100a",
   "metadata": {},
   "outputs": [],
   "source": []
  },
  {
   "cell_type": "code",
   "execution_count": null,
   "id": "97577d98-f8f5-4b2d-b1ec-c3dfd12dc290",
   "metadata": {},
   "outputs": [],
   "source": []
  },
  {
   "cell_type": "code",
   "execution_count": null,
   "id": "ccaa79a0-a145-4eea-a710-01a6081d9989",
   "metadata": {},
   "outputs": [],
   "source": []
  },
  {
   "cell_type": "code",
   "execution_count": null,
   "id": "9dc43f1e-f9fc-4a8a-a025-34e3bfd8afa9",
   "metadata": {},
   "outputs": [],
   "source": []
  },
  {
   "cell_type": "code",
   "execution_count": null,
   "id": "096a82d5-df29-414d-9433-b8afdf766d77",
   "metadata": {},
   "outputs": [],
   "source": []
  },
  {
   "cell_type": "code",
   "execution_count": null,
   "id": "fc312746-1feb-4296-9c9c-d5ccb4070c9d",
   "metadata": {},
   "outputs": [],
   "source": []
  },
  {
   "cell_type": "code",
   "execution_count": null,
   "id": "e4a73b64-fc6d-4469-96c3-52fe842273a5",
   "metadata": {},
   "outputs": [],
   "source": []
  },
  {
   "cell_type": "code",
   "execution_count": null,
   "id": "fe05c651-cb89-4475-9b5c-f62e7d1ba94f",
   "metadata": {},
   "outputs": [],
   "source": []
  },
  {
   "cell_type": "code",
   "execution_count": null,
   "id": "bf4c9ab0-bf5a-4606-af2b-1725c8f65ba8",
   "metadata": {},
   "outputs": [],
   "source": []
  },
  {
   "cell_type": "code",
   "execution_count": null,
   "id": "77af8c8c-e1f2-4094-babc-b7cc880b7cbc",
   "metadata": {},
   "outputs": [],
   "source": []
  },
  {
   "cell_type": "code",
   "execution_count": null,
   "id": "f3a5c458-f004-49b9-b1c5-90cfc4b0337f",
   "metadata": {},
   "outputs": [],
   "source": []
  },
  {
   "cell_type": "code",
   "execution_count": null,
   "id": "9e116e5c-554f-4500-87e9-c77b84fa9d7b",
   "metadata": {},
   "outputs": [],
   "source": []
  },
  {
   "cell_type": "code",
   "execution_count": null,
   "id": "dc945620-1563-4689-9761-68df543a58bd",
   "metadata": {},
   "outputs": [],
   "source": []
  },
  {
   "cell_type": "code",
   "execution_count": null,
   "id": "eb8e0b7d-dfe0-4af9-8cb8-b8c35f0b04de",
   "metadata": {},
   "outputs": [],
   "source": []
  },
  {
   "cell_type": "code",
   "execution_count": null,
   "id": "73ddd1dc-b206-445b-9c57-03a971e89b24",
   "metadata": {},
   "outputs": [],
   "source": []
  },
  {
   "cell_type": "code",
   "execution_count": null,
   "id": "0f5820cf-b545-41c1-aabf-b731585a8dcb",
   "metadata": {},
   "outputs": [],
   "source": []
  },
  {
   "cell_type": "code",
   "execution_count": null,
   "id": "5f0e0af7-491b-4f79-985b-0793cae9a5f0",
   "metadata": {},
   "outputs": [],
   "source": []
  },
  {
   "cell_type": "code",
   "execution_count": null,
   "id": "3519ffec-10c9-4716-b444-db866bc732bf",
   "metadata": {},
   "outputs": [],
   "source": []
  },
  {
   "cell_type": "code",
   "execution_count": null,
   "id": "469dc3fd-e809-4e43-a1a7-f13837a5c0de",
   "metadata": {},
   "outputs": [],
   "source": []
  },
  {
   "cell_type": "code",
   "execution_count": null,
   "id": "48a7e990-4d65-492f-ba74-90e91032ced7",
   "metadata": {},
   "outputs": [],
   "source": []
  },
  {
   "cell_type": "code",
   "execution_count": null,
   "id": "20693b5c-65da-4c14-b397-510e22a33447",
   "metadata": {},
   "outputs": [],
   "source": []
  },
  {
   "cell_type": "code",
   "execution_count": null,
   "id": "a4a05f43-d574-4c71-9241-85ea084aca17",
   "metadata": {},
   "outputs": [],
   "source": []
  },
  {
   "cell_type": "code",
   "execution_count": null,
   "id": "821aa5c3-6b00-4f94-88a8-de585f37261d",
   "metadata": {},
   "outputs": [],
   "source": []
  },
  {
   "cell_type": "code",
   "execution_count": null,
   "id": "5a068bc4-d3f2-42ee-99b5-077b0c711784",
   "metadata": {},
   "outputs": [],
   "source": []
  },
  {
   "cell_type": "code",
   "execution_count": null,
   "id": "b4d64d82-da33-4ddc-bee1-d9d8a2f60c8c",
   "metadata": {},
   "outputs": [],
   "source": []
  },
  {
   "cell_type": "code",
   "execution_count": null,
   "id": "7eb126b0-d89c-4735-af0f-710b5ddb4e29",
   "metadata": {},
   "outputs": [],
   "source": []
  },
  {
   "cell_type": "code",
   "execution_count": null,
   "id": "3563497f-a851-45ef-8051-6a3b18d3295b",
   "metadata": {},
   "outputs": [],
   "source": []
  },
  {
   "cell_type": "code",
   "execution_count": null,
   "id": "ba031578-e874-4444-946c-b7f248bfd606",
   "metadata": {},
   "outputs": [],
   "source": []
  },
  {
   "cell_type": "code",
   "execution_count": null,
   "id": "631e9513-9fc7-41af-997b-851bc5912cf7",
   "metadata": {},
   "outputs": [],
   "source": []
  },
  {
   "cell_type": "code",
   "execution_count": null,
   "id": "6d1cdf8d-9640-414a-99d3-be5dd598e898",
   "metadata": {},
   "outputs": [],
   "source": []
  },
  {
   "cell_type": "code",
   "execution_count": null,
   "id": "8cf192ba-c70b-46b8-8a66-a9887e65304a",
   "metadata": {},
   "outputs": [],
   "source": []
  },
  {
   "cell_type": "code",
   "execution_count": null,
   "id": "4fd00a56-e02a-4bba-9307-1cf94bb845ee",
   "metadata": {},
   "outputs": [],
   "source": []
  },
  {
   "cell_type": "code",
   "execution_count": null,
   "id": "0ea6293b-30ed-4566-87e4-8d5854768a5d",
   "metadata": {},
   "outputs": [],
   "source": []
  },
  {
   "cell_type": "code",
   "execution_count": null,
   "id": "0394dbd2-3730-4799-980f-afdb8d2f01c7",
   "metadata": {},
   "outputs": [],
   "source": []
  },
  {
   "cell_type": "code",
   "execution_count": null,
   "id": "257d7a5a-4483-45e1-afe8-e12e69be40a4",
   "metadata": {},
   "outputs": [],
   "source": []
  },
  {
   "cell_type": "code",
   "execution_count": null,
   "id": "fcf68998-6fd6-420e-a9e0-bc5d77d9b689",
   "metadata": {},
   "outputs": [],
   "source": []
  },
  {
   "cell_type": "code",
   "execution_count": null,
   "id": "18db1984-0e09-430e-84b4-462dea264c90",
   "metadata": {},
   "outputs": [],
   "source": []
  },
  {
   "cell_type": "code",
   "execution_count": null,
   "id": "d382d1ef-de24-4a7f-89cb-a07d2045b012",
   "metadata": {},
   "outputs": [],
   "source": []
  },
  {
   "cell_type": "code",
   "execution_count": null,
   "id": "d5af7c9d-81ed-4972-adf9-076c106e97dd",
   "metadata": {},
   "outputs": [],
   "source": []
  },
  {
   "cell_type": "code",
   "execution_count": null,
   "id": "071a2e13-c42b-4d35-a03e-775212b98064",
   "metadata": {},
   "outputs": [],
   "source": []
  },
  {
   "cell_type": "code",
   "execution_count": null,
   "id": "fbf19675-20b7-4793-b9b1-ab97a0035d16",
   "metadata": {},
   "outputs": [],
   "source": []
  },
  {
   "cell_type": "code",
   "execution_count": null,
   "id": "a2884c88-0862-4835-887c-14fc66c4322a",
   "metadata": {},
   "outputs": [],
   "source": []
  },
  {
   "cell_type": "code",
   "execution_count": null,
   "id": "ab7ada74-972f-4f30-b654-3be06fa3b74d",
   "metadata": {},
   "outputs": [],
   "source": []
  },
  {
   "cell_type": "code",
   "execution_count": null,
   "id": "214fa9bb-6a80-4353-bc9b-8c95508b95fb",
   "metadata": {},
   "outputs": [],
   "source": []
  },
  {
   "cell_type": "code",
   "execution_count": null,
   "id": "95dd2c3e-966e-43fc-851b-96f77695340f",
   "metadata": {},
   "outputs": [],
   "source": []
  },
  {
   "cell_type": "code",
   "execution_count": null,
   "id": "39c50ab6-4c63-4d8f-a67a-88193e3e99d1",
   "metadata": {},
   "outputs": [],
   "source": []
  },
  {
   "cell_type": "code",
   "execution_count": null,
   "id": "4f84d7f6-ccc2-424d-85a0-1f1884a4b6f1",
   "metadata": {},
   "outputs": [],
   "source": []
  },
  {
   "cell_type": "code",
   "execution_count": null,
   "id": "447ebeb5-8a06-44e1-8492-a47ad1441ae9",
   "metadata": {},
   "outputs": [],
   "source": []
  },
  {
   "cell_type": "code",
   "execution_count": null,
   "id": "c16814e7-8591-47ae-97bb-7af9f22a006c",
   "metadata": {},
   "outputs": [],
   "source": []
  },
  {
   "cell_type": "code",
   "execution_count": null,
   "id": "fb098194-0f53-4fe9-9bde-608211ca5484",
   "metadata": {},
   "outputs": [],
   "source": []
  },
  {
   "cell_type": "code",
   "execution_count": null,
   "id": "d6e348b2-1ca1-4b66-a26b-7be463ef5bd4",
   "metadata": {},
   "outputs": [],
   "source": []
  },
  {
   "cell_type": "code",
   "execution_count": null,
   "id": "c362d262-a697-4a19-80ae-c477ed91eb2b",
   "metadata": {},
   "outputs": [],
   "source": []
  },
  {
   "cell_type": "code",
   "execution_count": null,
   "id": "e5f14fe7-2895-4c76-a530-fd1b55a3e089",
   "metadata": {},
   "outputs": [],
   "source": []
  },
  {
   "cell_type": "code",
   "execution_count": null,
   "id": "e91f139e-a12c-4d0a-8309-d59be69c1534",
   "metadata": {},
   "outputs": [],
   "source": []
  },
  {
   "cell_type": "code",
   "execution_count": null,
   "id": "b023d823-5565-4cf2-bd31-ee84ca6d6229",
   "metadata": {},
   "outputs": [],
   "source": []
  },
  {
   "cell_type": "code",
   "execution_count": null,
   "id": "227ae65c-1038-4f6f-8ca3-4aa439f39deb",
   "metadata": {},
   "outputs": [],
   "source": []
  },
  {
   "cell_type": "code",
   "execution_count": null,
   "id": "92eaeea4-6cc5-4871-90f2-222f86c3e13e",
   "metadata": {},
   "outputs": [],
   "source": []
  },
  {
   "cell_type": "code",
   "execution_count": null,
   "id": "59ec00b7-2b96-41a2-aadf-2ab5a3d8a050",
   "metadata": {},
   "outputs": [],
   "source": []
  },
  {
   "cell_type": "code",
   "execution_count": null,
   "id": "cf1fb31e-9053-4903-a0ef-8c55d8f8066d",
   "metadata": {},
   "outputs": [],
   "source": []
  },
  {
   "cell_type": "code",
   "execution_count": null,
   "id": "b35e693f-b35c-475f-a0e7-d2cdece6d529",
   "metadata": {},
   "outputs": [],
   "source": []
  },
  {
   "cell_type": "code",
   "execution_count": null,
   "id": "1fec7bea-9302-4e51-af6c-564734ee25f2",
   "metadata": {},
   "outputs": [],
   "source": []
  },
  {
   "cell_type": "code",
   "execution_count": null,
   "id": "aeff0cc9-bf65-41e5-a567-1ee98de4b205",
   "metadata": {},
   "outputs": [],
   "source": []
  },
  {
   "cell_type": "code",
   "execution_count": null,
   "id": "dd729d8a-cdf6-4e2a-91d8-23b5fcbb2d63",
   "metadata": {},
   "outputs": [],
   "source": []
  },
  {
   "cell_type": "code",
   "execution_count": null,
   "id": "dbd8dec3-3dbf-4957-ae88-c04ebb216342",
   "metadata": {},
   "outputs": [],
   "source": []
  },
  {
   "cell_type": "code",
   "execution_count": null,
   "id": "6a937b48-b527-4e51-8115-f3e90cc81135",
   "metadata": {},
   "outputs": [],
   "source": []
  },
  {
   "cell_type": "code",
   "execution_count": null,
   "id": "ce18e69b-4f21-45ab-9848-e13da7029c95",
   "metadata": {},
   "outputs": [],
   "source": []
  },
  {
   "cell_type": "code",
   "execution_count": null,
   "id": "8834940f-49d2-4bff-a613-c0870848571f",
   "metadata": {},
   "outputs": [],
   "source": []
  },
  {
   "cell_type": "code",
   "execution_count": null,
   "id": "e87e7e4c-d3d8-4884-9562-08539a1fc7df",
   "metadata": {},
   "outputs": [],
   "source": []
  },
  {
   "cell_type": "code",
   "execution_count": null,
   "id": "26a71a84-de13-4aae-b778-9cb7bced82ac",
   "metadata": {},
   "outputs": [],
   "source": []
  },
  {
   "cell_type": "code",
   "execution_count": null,
   "id": "76ca9bb9-2a7e-4930-9133-b7580ce79556",
   "metadata": {},
   "outputs": [],
   "source": []
  },
  {
   "cell_type": "code",
   "execution_count": null,
   "id": "aef35b0b-776a-450d-8d6c-d9842c42d3d0",
   "metadata": {},
   "outputs": [],
   "source": []
  },
  {
   "cell_type": "code",
   "execution_count": null,
   "id": "883e6e7a-8de6-420a-943b-57481c42f74c",
   "metadata": {},
   "outputs": [],
   "source": []
  },
  {
   "cell_type": "code",
   "execution_count": null,
   "id": "26e0131d-9f3f-484d-b140-4b0f2ae059e8",
   "metadata": {},
   "outputs": [],
   "source": []
  },
  {
   "cell_type": "code",
   "execution_count": null,
   "id": "a7bde488-9b7a-4861-95c6-a77a64561d23",
   "metadata": {},
   "outputs": [],
   "source": []
  },
  {
   "cell_type": "code",
   "execution_count": null,
   "id": "32ac5ec6-8496-4d7c-8c82-e3a328b3b79e",
   "metadata": {},
   "outputs": [],
   "source": []
  },
  {
   "cell_type": "code",
   "execution_count": null,
   "id": "fa843f15-1141-4d00-8e39-393f1a3a80a9",
   "metadata": {},
   "outputs": [],
   "source": []
  },
  {
   "cell_type": "code",
   "execution_count": null,
   "id": "97250795-512e-47fe-b68a-1d6895181737",
   "metadata": {},
   "outputs": [],
   "source": []
  },
  {
   "cell_type": "code",
   "execution_count": null,
   "id": "f7afe250-1614-4391-a261-c83aa1fb8a27",
   "metadata": {},
   "outputs": [],
   "source": []
  },
  {
   "cell_type": "code",
   "execution_count": null,
   "id": "f144c780-b4a2-441e-becb-d84da7e488c7",
   "metadata": {},
   "outputs": [],
   "source": []
  },
  {
   "cell_type": "code",
   "execution_count": null,
   "id": "68fe119e-75a3-4ebd-9ef4-c89e5a83c386",
   "metadata": {},
   "outputs": [],
   "source": []
  },
  {
   "cell_type": "code",
   "execution_count": null,
   "id": "151e73c7-3d68-46fc-be51-885311d630b7",
   "metadata": {},
   "outputs": [],
   "source": []
  },
  {
   "cell_type": "code",
   "execution_count": null,
   "id": "b97254b2-1426-4b43-86db-5d1d230a8b80",
   "metadata": {},
   "outputs": [],
   "source": []
  },
  {
   "cell_type": "code",
   "execution_count": null,
   "id": "aac19dc5-090f-4bea-b660-cc10c0f6a61c",
   "metadata": {},
   "outputs": [],
   "source": []
  },
  {
   "cell_type": "code",
   "execution_count": null,
   "id": "10b2f9b0-46d5-43ee-b1be-42ff4117c624",
   "metadata": {},
   "outputs": [],
   "source": []
  },
  {
   "cell_type": "code",
   "execution_count": null,
   "id": "d265d5c3-aeba-4d9e-9987-1530700380ba",
   "metadata": {},
   "outputs": [],
   "source": []
  },
  {
   "cell_type": "code",
   "execution_count": null,
   "id": "2d88db53-71db-4578-89e0-501578ad6ce2",
   "metadata": {},
   "outputs": [],
   "source": []
  },
  {
   "cell_type": "code",
   "execution_count": null,
   "id": "4dfeef02-acb2-4c5b-abc9-321b64a14391",
   "metadata": {},
   "outputs": [],
   "source": []
  },
  {
   "cell_type": "code",
   "execution_count": null,
   "id": "18de599e-9dec-4ec8-9c93-44a617f6e80c",
   "metadata": {},
   "outputs": [],
   "source": []
  },
  {
   "cell_type": "code",
   "execution_count": null,
   "id": "17704fb0-563d-4cce-b680-9e1f23eeeee4",
   "metadata": {},
   "outputs": [],
   "source": []
  },
  {
   "cell_type": "code",
   "execution_count": null,
   "id": "40a7b337-d644-46c6-8096-e938192214b9",
   "metadata": {},
   "outputs": [],
   "source": []
  },
  {
   "cell_type": "code",
   "execution_count": null,
   "id": "91135b5a-8bb3-497a-8b59-3079615b4144",
   "metadata": {},
   "outputs": [],
   "source": []
  },
  {
   "cell_type": "code",
   "execution_count": null,
   "id": "5e5fdf72-36b8-429c-b81f-c233c7d262c2",
   "metadata": {},
   "outputs": [],
   "source": []
  },
  {
   "cell_type": "code",
   "execution_count": null,
   "id": "0e714b19-206d-4f99-959f-b8cae542b44a",
   "metadata": {},
   "outputs": [],
   "source": []
  },
  {
   "cell_type": "code",
   "execution_count": null,
   "id": "c6e52fc7-8092-4c86-b0c6-dd72a4ff7706",
   "metadata": {},
   "outputs": [],
   "source": []
  },
  {
   "cell_type": "code",
   "execution_count": null,
   "id": "010c4a5c-4c82-4af3-b869-f416d0f3444e",
   "metadata": {},
   "outputs": [],
   "source": []
  },
  {
   "cell_type": "code",
   "execution_count": null,
   "id": "17dc0704-b453-4ee5-abbf-4d4613dfa631",
   "metadata": {},
   "outputs": [],
   "source": []
  },
  {
   "cell_type": "code",
   "execution_count": null,
   "id": "1aa782e1-3db7-47cf-9cf4-53ca4568511a",
   "metadata": {},
   "outputs": [],
   "source": []
  },
  {
   "cell_type": "code",
   "execution_count": null,
   "id": "d5ab8beb-4c28-4763-a798-1be57c456383",
   "metadata": {},
   "outputs": [],
   "source": []
  },
  {
   "cell_type": "code",
   "execution_count": null,
   "id": "56f80ef6-3f03-4eef-ab78-9da10156c525",
   "metadata": {},
   "outputs": [],
   "source": []
  },
  {
   "cell_type": "code",
   "execution_count": null,
   "id": "f45f227f-c042-4e2b-a3f3-7f8ba74a4551",
   "metadata": {},
   "outputs": [],
   "source": []
  },
  {
   "cell_type": "code",
   "execution_count": null,
   "id": "c834dcd4-12e1-46f7-adda-89caeea9cfe1",
   "metadata": {},
   "outputs": [],
   "source": []
  },
  {
   "cell_type": "code",
   "execution_count": null,
   "id": "3d180b59-c030-4855-803b-3a41e4c2fbe0",
   "metadata": {},
   "outputs": [],
   "source": []
  },
  {
   "cell_type": "code",
   "execution_count": null,
   "id": "451848de-6c58-4a96-9371-5d7c393e1ead",
   "metadata": {},
   "outputs": [],
   "source": []
  },
  {
   "cell_type": "code",
   "execution_count": null,
   "id": "c9262287-1fa0-4e6e-8132-5f05ac73e5e1",
   "metadata": {},
   "outputs": [],
   "source": []
  },
  {
   "cell_type": "code",
   "execution_count": null,
   "id": "e665429d-db0d-4d3b-b0da-c57e8d41cfa2",
   "metadata": {},
   "outputs": [],
   "source": []
  },
  {
   "cell_type": "code",
   "execution_count": null,
   "id": "b5352238-54b3-4c78-9bb1-e5ef18eb9055",
   "metadata": {},
   "outputs": [],
   "source": []
  },
  {
   "cell_type": "code",
   "execution_count": null,
   "id": "6e3b2b02-c587-4cd1-8e9e-bb7fc79eee4d",
   "metadata": {},
   "outputs": [],
   "source": []
  },
  {
   "cell_type": "code",
   "execution_count": null,
   "id": "b08545b3-00f5-42d9-86fa-82aba9a16e53",
   "metadata": {},
   "outputs": [],
   "source": []
  },
  {
   "cell_type": "code",
   "execution_count": null,
   "id": "8f33d4d5-77a0-4509-a782-15ba1da56c1f",
   "metadata": {},
   "outputs": [],
   "source": []
  },
  {
   "cell_type": "code",
   "execution_count": null,
   "id": "c4c1677d-b09d-482e-9aad-73be99416c33",
   "metadata": {},
   "outputs": [],
   "source": []
  },
  {
   "cell_type": "code",
   "execution_count": null,
   "id": "c7ffbccd-18d2-474b-b4bf-18307dac5f61",
   "metadata": {},
   "outputs": [],
   "source": []
  },
  {
   "cell_type": "code",
   "execution_count": null,
   "id": "4930758a-92bb-4055-82c6-b07c012a9f6d",
   "metadata": {},
   "outputs": [],
   "source": []
  },
  {
   "cell_type": "code",
   "execution_count": null,
   "id": "4f6aaf77-acf1-4f8a-b6a8-3d0b05f8c363",
   "metadata": {},
   "outputs": [],
   "source": []
  },
  {
   "cell_type": "code",
   "execution_count": null,
   "id": "0f6cda7c-2dfc-4e6f-9327-1674162312ca",
   "metadata": {},
   "outputs": [],
   "source": []
  }
 ],
 "metadata": {
  "kernelspec": {
   "display_name": "Python 3 (ipykernel)",
   "language": "python",
   "name": "python3"
  },
  "language_info": {
   "codemirror_mode": {
    "name": "ipython",
    "version": 3
   },
   "file_extension": ".py",
   "mimetype": "text/x-python",
   "name": "python",
   "nbconvert_exporter": "python",
   "pygments_lexer": "ipython3",
   "version": "3.8.8"
  }
 },
 "nbformat": 4,
 "nbformat_minor": 5
}
