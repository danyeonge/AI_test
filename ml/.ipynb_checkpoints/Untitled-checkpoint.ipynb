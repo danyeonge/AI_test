{
 "cells": [
  {
   "cell_type": "code",
   "execution_count": 2,
   "id": "a72a8cf0-646c-46c1-9712-c93d8a5e76ff",
   "metadata": {},
   "outputs": [],
   "source": [
    "import numpy as np\n",
    "import pandas as pd\n",
    "import matplotlib.pyplot as plt\n",
    "import seaborn as sns\n",
    "\n",
    "# ------------------------------------------------------\n",
    "from sklearn.datasets import load_iris\n",
    "from sklearn.model_selection import train_test_split\n",
    "from sklearn.preprocessing import StandardScaler, MinMaxScaler, RobustScaler\n",
    "from sklearn.preprocessing import LabelEncoder, OneHotEncoder\n",
    "from sklearn.tree import DecisionTreeClassifier\n",
    "# ------------------------------------------------------\n",
    "\n",
    "from sklearn.metrics import accuracy_score\n",
    "from sklearn.metrics import precision_score, recall_score, f1_score, roc_auc_score \n",
    "from sklearn.metrics import confusion_matrix,classification_report\n",
    "from sklearn.metrics import roc_curve, roc_auc_score\n",
    "# ------------------------------------------------------\n",
    "\n",
    "\n",
    "import warnings\n",
    "warnings.filterwarnings(action=\"ignore\")"
   ]
  },
  {
   "cell_type": "code",
   "execution_count": 3,
   "id": "d479eb4f-ab9b-47e0-a6d3-9a2e64a47791",
   "metadata": {},
   "outputs": [
    {
     "data": {
      "text/plain": [
       "dict_keys(['data', 'target', 'frame', 'target_names', 'DESCR', 'feature_names', 'filename', 'data_module'])"
      ]
     },
     "execution_count": 3,
     "metadata": {},
     "output_type": "execute_result"
    }
   ],
   "source": [
    "data = load_iris()\n",
    "data.keys()"
   ]
  },
  {
   "cell_type": "code",
   "execution_count": 4,
   "id": "7acf2dab-b0d1-4fd5-a0f7-7f76affb4aa1",
   "metadata": {},
   "outputs": [
    {
     "data": {
      "text/html": [
       "<div>\n",
       "<style scoped>\n",
       "    .dataframe tbody tr th:only-of-type {\n",
       "        vertical-align: middle;\n",
       "    }\n",
       "\n",
       "    .dataframe tbody tr th {\n",
       "        vertical-align: top;\n",
       "    }\n",
       "\n",
       "    .dataframe thead th {\n",
       "        text-align: right;\n",
       "    }\n",
       "</style>\n",
       "<table border=\"1\" class=\"dataframe\">\n",
       "  <thead>\n",
       "    <tr style=\"text-align: right;\">\n",
       "      <th></th>\n",
       "      <th>sl</th>\n",
       "      <th>sw</th>\n",
       "      <th>pl</th>\n",
       "      <th>pw</th>\n",
       "      <th>target</th>\n",
       "    </tr>\n",
       "  </thead>\n",
       "  <tbody>\n",
       "    <tr>\n",
       "      <th>0</th>\n",
       "      <td>5.1</td>\n",
       "      <td>3.5</td>\n",
       "      <td>1.4</td>\n",
       "      <td>0.2</td>\n",
       "      <td>0</td>\n",
       "    </tr>\n",
       "    <tr>\n",
       "      <th>1</th>\n",
       "      <td>4.9</td>\n",
       "      <td>3.0</td>\n",
       "      <td>1.4</td>\n",
       "      <td>0.2</td>\n",
       "      <td>0</td>\n",
       "    </tr>\n",
       "    <tr>\n",
       "      <th>2</th>\n",
       "      <td>4.7</td>\n",
       "      <td>3.2</td>\n",
       "      <td>1.3</td>\n",
       "      <td>0.2</td>\n",
       "      <td>0</td>\n",
       "    </tr>\n",
       "    <tr>\n",
       "      <th>3</th>\n",
       "      <td>4.6</td>\n",
       "      <td>3.1</td>\n",
       "      <td>1.5</td>\n",
       "      <td>0.2</td>\n",
       "      <td>0</td>\n",
       "    </tr>\n",
       "    <tr>\n",
       "      <th>4</th>\n",
       "      <td>5.0</td>\n",
       "      <td>3.6</td>\n",
       "      <td>1.4</td>\n",
       "      <td>0.2</td>\n",
       "      <td>0</td>\n",
       "    </tr>\n",
       "  </tbody>\n",
       "</table>\n",
       "</div>"
      ],
      "text/plain": [
       "    sl   sw   pl   pw  target\n",
       "0  5.1  3.5  1.4  0.2       0\n",
       "1  4.9  3.0  1.4  0.2       0\n",
       "2  4.7  3.2  1.3  0.2       0\n",
       "3  4.6  3.1  1.5  0.2       0\n",
       "4  5.0  3.6  1.4  0.2       0"
      ]
     },
     "execution_count": 4,
     "metadata": {},
     "output_type": "execute_result"
    }
   ],
   "source": [
    "df = pd.DataFrame(data=data[\"data\"], columns=data[\"feature_names\"] )  #index=[]\n",
    "df.columns = [\"sl\",\"sw\",\"pl\",\"pw\"]\n",
    "df['target'] = data[\"target\"]\n",
    "df.head()"
   ]
  },
  {
   "cell_type": "code",
   "execution_count": null,
   "id": "8a7a1713-58d1-4897-992a-4c65007ce4cf",
   "metadata": {},
   "outputs": [],
   "source": [
    "교차검증 - cross validation\n"
   ]
  },
  {
   "cell_type": "code",
   "execution_count": null,
   "id": "9399d498-f1a1-4a53-9f32-3a65e6c661e3",
   "metadata": {},
   "outputs": [],
   "source": [
    "enumerage\n"
   ]
  },
  {
   "cell_type": "code",
   "execution_count": 5,
   "id": "44b2f795-a56e-4e7a-a3e4-2d1a02b0f151",
   "metadata": {},
   "outputs": [
    {
     "name": "stdout",
     "output_type": "stream",
     "text": [
      "0 1\n",
      "1 2\n",
      "2 3\n"
     ]
    }
   ],
   "source": [
    "for loop_cnt, v in enumerate([1,2,3]):\n",
    "    print(loop_cnt, v)"
   ]
  },
  {
   "cell_type": "code",
   "execution_count": 6,
   "id": "4537e18e-13a1-4112-88f0-e3035009aa3b",
   "metadata": {},
   "outputs": [
    {
     "name": "stdout",
     "output_type": "stream",
     "text": [
      "0 [1, 10]\n",
      "1 [2, 20]\n",
      "2 [3, 30]\n"
     ]
    }
   ],
   "source": [
    "for loop_cnt, v in enumerate([ [1,10] ,  [2,20] ,  [3,30]]):\n",
    "    print(loop_cnt, v)"
   ]
  },
  {
   "cell_type": "code",
   "execution_count": 7,
   "id": "625683b8-2633-49ee-ade6-f79b48117d9d",
   "metadata": {},
   "outputs": [
    {
     "name": "stdout",
     "output_type": "stream",
     "text": [
      "0 1 10\n",
      "1 2 20\n",
      "2 3 30\n"
     ]
    }
   ],
   "source": [
    "for loop_cnt, (v1,v2) in enumerate([ [1,10] ,  [2,20] ,  [3,30]]):\n",
    "    print(loop_cnt, v1, v2)"
   ]
  },
  {
   "cell_type": "markdown",
   "id": "dcb81e79-b7cc-4c0c-ba51-d8fc32a4cf5e",
   "metadata": {},
   "source": [
    "kfold\n",
    "* 회귀모델"
   ]
  },
  {
   "cell_type": "code",
   "execution_count": 8,
   "id": "4dd10821-140b-43a4-b872-9daca8db1d72",
   "metadata": {},
   "outputs": [],
   "source": [
    "from sklearn.model_selection import train_test_split, KFold"
   ]
  },
  {
   "cell_type": "code",
   "execution_count": 10,
   "id": "c94c57a1-2aaf-4040-865a-3940b394bbb9",
   "metadata": {},
   "outputs": [
    {
     "data": {
      "text/plain": [
       "array([0, 0, 0, 0, 0, 0, 0, 0, 0, 0, 0, 0, 0, 0, 0, 0, 0, 0, 0, 0, 0, 0,\n",
       "       0, 0, 0, 0, 0, 0, 0, 0, 0, 0, 0, 0, 0, 0, 0, 0, 0, 0, 0, 0, 0, 0,\n",
       "       0, 0, 0, 0, 0, 0, 1, 1, 1, 1, 1, 1, 1, 1, 1, 1, 1, 1, 1, 1, 1, 1,\n",
       "       1, 1, 1, 1, 1, 1, 1, 1, 1, 1, 1, 1, 1, 1, 1, 1, 1, 1, 1, 1, 1, 1,\n",
       "       1, 1, 1, 1, 1, 1, 1, 1, 1, 1, 1, 1, 2, 2, 2, 2, 2, 2, 2, 2, 2, 2,\n",
       "       2, 2, 2, 2, 2, 2, 2, 2, 2, 2, 2, 2, 2, 2, 2, 2, 2, 2, 2, 2, 2, 2,\n",
       "       2, 2, 2, 2, 2, 2, 2, 2, 2, 2, 2, 2, 2, 2, 2, 2, 2, 2])"
      ]
     },
     "execution_count": 10,
     "metadata": {},
     "output_type": "execute_result"
    }
   ],
   "source": [
    "df['target'].values"
   ]
  },
  {
   "cell_type": "code",
   "execution_count": 16,
   "id": "253032c4-dfb9-444a-b6d0-cf084c2b748f",
   "metadata": {},
   "outputs": [
    {
     "data": {
      "text/plain": [
       "(150, 5)"
      ]
     },
     "execution_count": 16,
     "metadata": {},
     "output_type": "execute_result"
    }
   ],
   "source": [
    "df.shape"
   ]
  },
  {
   "cell_type": "code",
   "execution_count": 19,
   "id": "4d2e5f87-c9fc-4a5b-aa4e-c1e1daf21a40",
   "metadata": {},
   "outputs": [
    {
     "name": "stdout",
     "output_type": "stream",
     "text": [
      "[0 0 0 0 0 0 0 0 0 0 0 0 0 0 0 0 0 0 0 1 1 1 1 1 1 1 1 1 1 1 1 1 1 1 1 2 2\n",
      " 2 2 2 2 2 2 2 2 2 2 2 2 2]\n",
      "[0 0 0 0 0 0 0 0 0 0 0 0 0 0 0 0 0 0 0 0 0 0 0 0 0 0 0 0 0 0 0 1 1 1 1 1 1\n",
      " 1 1 1 1 1 1 1 1 1 1 1 1 1 1 1 1 1 1 1 1 1 1 1 1 1 1 1 1 2 2 2 2 2 2 2 2 2\n",
      " 2 2 2 2 2 2 2 2 2 2 2 2 2 2 2 2 2 2 2 2 2 2 2 2 2 2]\n",
      "f1:0.9139\n",
      "------------------------------------------------------------------------------------------\n",
      "[0 0 0 0 0 0 0 0 0 0 0 0 0 0 0 0 0 1 1 1 1 1 1 1 1 1 1 1 1 1 1 1 1 1 1 2 2\n",
      " 2 2 2 2 2 2 2 2 2 2 2 2 2]\n",
      "[0 0 0 0 0 0 0 0 0 0 0 0 0 0 0 0 0 0 0 0 0 0 0 0 0 0 0 0 0 0 0 0 0 1 1 1 1\n",
      " 1 1 1 1 1 1 1 1 1 1 1 1 1 1 1 1 1 1 1 1 1 1 1 1 1 1 1 1 2 2 2 2 2 2 2 2 2\n",
      " 2 2 2 2 2 2 2 2 2 2 2 2 2 2 2 2 2 2 2 2 2 2 2 2 2 2]\n",
      "f1:0.9797\n",
      "------------------------------------------------------------------------------------------\n",
      "[0 0 0 0 0 0 0 0 0 0 0 0 0 0 1 1 1 1 1 1 1 1 1 1 1 1 1 1 1 1 2 2 2 2 2 2 2\n",
      " 2 2 2 2 2 2 2 2 2 2 2 2 2]\n",
      "[0 0 0 0 0 0 0 0 0 0 0 0 0 0 0 0 0 0 0 0 0 0 0 0 0 0 0 0 0 0 0 0 0 0 0 0 1\n",
      " 1 1 1 1 1 1 1 1 1 1 1 1 1 1 1 1 1 1 1 1 1 1 1 1 1 1 1 1 1 1 1 1 1 2 2 2 2\n",
      " 2 2 2 2 2 2 2 2 2 2 2 2 2 2 2 2 2 2 2 2 2 2 2 2 2 2]\n",
      "f1:0.9444\n",
      "------------------------------------------------------------------------------------------\n",
      "평균점수:0.9460\n"
     ]
    }
   ],
   "source": [
    "y = df['target']\n",
    "X = df.drop('target',axis=1)\n",
    "\n",
    "score_list=[]\n",
    "kfold=KFold(n_splits=3, shuffle=True, random_state=1212)\n",
    "\n",
    "for i, (train_idx, test_idx) in enumerate(kfold.split(X)) :\n",
    "    # print(i, train_idx, test_idx)\n",
    "    print(df.loc[test_idx, 'target'].values)\n",
    "    print(df.loc[train_idx, 'target'].values)\n",
    "\n",
    "    # X_train, X_test, y_train, y_test = train_test_split(X, y, test_size=0.2, random_state=11)\n",
    "    X_train, X_test,  y_train, y_test = X.loc[train_idx], X.loc[test_idx], y.loc[train_idx], y.loc[test_idx]\n",
    "    # print(i, X_train.shape, X_test.shape, y_train.shape, y_test.shape)\n",
    "\n",
    "    model = DecisionTreeClassifier(random_state=111, min_samples_split=2)\n",
    "    model.fit(X_train, y_train)\n",
    "    pred = model.predict(X_test)\n",
    "    f1 = f1_score(y_test ,pred, average='macro')\n",
    "    print(f'f1:{f1:.4f}')\n",
    "\n",
    "    score_list.append(f1)\n",
    "    print('---'*30)\n",
    "print(f'평균점수:{np.mean(score_list):.4f}')\n",
    "\n",
    "\n",
    "    "
   ]
  },
  {
   "cell_type": "code",
   "execution_count": 20,
   "id": "7ed2ce85-c0d1-4eba-b707-0e8d5a9ca3b5",
   "metadata": {},
   "outputs": [],
   "source": [
    "from sklearn.model_selection import train_test_split, KFold, StratifiedKFold"
   ]
  },
  {
   "cell_type": "code",
   "execution_count": 30,
   "id": "8118a241-51a7-4227-9f23-62bc17ac0116",
   "metadata": {},
   "outputs": [
    {
     "name": "stdout",
     "output_type": "stream",
     "text": [
      "0 2    34\n",
      "0    33\n",
      "1    33\n",
      "Name: target, dtype: int64\n",
      "0 (100, 4) (50, 4) (100,) (50,)\n",
      "f1 : 0.9596\n",
      "------------------------------------------------------------------------------------------\n",
      "1 1    34\n",
      "0    33\n",
      "2    33\n",
      "Name: target, dtype: int64\n",
      "1 (100, 4) (50, 4) (100,) (50,)\n",
      "f1 : 0.9385\n",
      "------------------------------------------------------------------------------------------\n",
      "2 0    34\n",
      "1    33\n",
      "2    33\n",
      "Name: target, dtype: int64\n",
      "2 (100, 4) (50, 4) (100,) (50,)\n",
      "f1 : 0.9216\n",
      "------------------------------------------------------------------------------------------\n",
      "평균점수 : 0.9399\n"
     ]
    }
   ],
   "source": [
    "y = df['target']\n",
    "X = df.drop('target', axis=1)\n",
    "\n",
    "score_list = []\n",
    "\n",
    "skfold = StratifiedKFold(n_splits=3,shuffle=True,random_state=1212)\n",
    "\n",
    "for i, (train_idx, test_idx) in enumerate(skfold.split(X,y)):\n",
    "        print(i, y[train_idx].value_counts())\n",
    "        X_train, X_test,  y_train, y_test = X.loc[train_idx], X.loc[test_idx], y.loc[train_idx], y.loc[test_idx]\n",
    "        print(i, X_train.shape, X_test.shape, y_train.shape, y_test.shape)\n",
    "        \n",
    "        model = DecisionTreeClassifier(random_state=111, min_samples_split=2)\n",
    "        model.fit(X_train, y_train)\n",
    "        pred = model.predict( X_test)  \n",
    "        f1   = f1_score(y_test, pred, average=\"macro\")\n",
    "        print(f\"f1 : {f1:.4f}\")\n",
    "        \n",
    "        score_list.append(f1)\n",
    "        print(\"---\"*30)\n",
    "\n",
    "print(f\"평균점수 : {np.mean(score_list):.4f}\")"
   ]
  },
  {
   "cell_type": "code",
   "execution_count": null,
   "id": "3c0f4593-413f-4a5c-aaeb-68fdd63bcdfd",
   "metadata": {},
   "outputs": [],
   "source": []
  },
  {
   "cell_type": "code",
   "execution_count": null,
   "id": "e97c4dc8-bb81-4b06-9c4a-67576bb1d799",
   "metadata": {},
   "outputs": [],
   "source": []
  },
  {
   "cell_type": "code",
   "execution_count": null,
   "id": "15dae08e-729d-480d-9164-e4e8bc75f74f",
   "metadata": {},
   "outputs": [],
   "source": []
  },
  {
   "cell_type": "code",
   "execution_count": null,
   "id": "7c4faa56-7363-43bf-955d-7628b8782075",
   "metadata": {},
   "outputs": [],
   "source": []
  },
  {
   "cell_type": "code",
   "execution_count": null,
   "id": "a8323fc0-d8be-4132-a02b-bbce92be9aed",
   "metadata": {},
   "outputs": [],
   "source": []
  },
  {
   "cell_type": "code",
   "execution_count": null,
   "id": "422dd36a-e968-410d-8187-82d3b201bc91",
   "metadata": {},
   "outputs": [],
   "source": []
  },
  {
   "cell_type": "code",
   "execution_count": null,
   "id": "e3518555-546c-4695-b16e-3c4cf6362f8d",
   "metadata": {},
   "outputs": [],
   "source": []
  },
  {
   "cell_type": "code",
   "execution_count": null,
   "id": "a80d76da-2fb6-47c9-9415-14d6aa5e9bb0",
   "metadata": {},
   "outputs": [],
   "source": []
  },
  {
   "cell_type": "code",
   "execution_count": null,
   "id": "7670db4a-6a2e-4b27-9deb-559a115df8aa",
   "metadata": {},
   "outputs": [],
   "source": []
  },
  {
   "cell_type": "code",
   "execution_count": null,
   "id": "b7580691-9e37-4dfb-80da-1497eb374197",
   "metadata": {},
   "outputs": [],
   "source": []
  },
  {
   "cell_type": "code",
   "execution_count": null,
   "id": "0e2f7d63-21d7-4bec-aecc-93a44ebeb58a",
   "metadata": {},
   "outputs": [],
   "source": []
  },
  {
   "cell_type": "code",
   "execution_count": null,
   "id": "84187fa4-2b74-470b-b28b-3bf8549e8578",
   "metadata": {},
   "outputs": [],
   "source": []
  },
  {
   "cell_type": "code",
   "execution_count": null,
   "id": "c8b3c9a5-084c-4444-aadd-62d9e8f5f405",
   "metadata": {},
   "outputs": [],
   "source": []
  },
  {
   "cell_type": "code",
   "execution_count": null,
   "id": "554d3f35-2649-41e2-b7ba-a47f44019812",
   "metadata": {},
   "outputs": [],
   "source": []
  },
  {
   "cell_type": "code",
   "execution_count": null,
   "id": "dea02ac4-f3f3-4cae-9fbc-d4b783dcaf7f",
   "metadata": {},
   "outputs": [],
   "source": []
  },
  {
   "cell_type": "code",
   "execution_count": null,
   "id": "f4ae0e56-dd62-4995-8b3a-a533485d54ed",
   "metadata": {},
   "outputs": [],
   "source": []
  },
  {
   "cell_type": "code",
   "execution_count": null,
   "id": "5608e5f0-37fd-440c-a15d-96bfd9fe4d41",
   "metadata": {},
   "outputs": [],
   "source": []
  },
  {
   "cell_type": "code",
   "execution_count": null,
   "id": "fd5c7423-d132-4f61-bb9d-8e163c790d09",
   "metadata": {},
   "outputs": [],
   "source": []
  },
  {
   "cell_type": "code",
   "execution_count": null,
   "id": "b92768da-6dff-45bb-ac0e-81123575671a",
   "metadata": {},
   "outputs": [],
   "source": []
  },
  {
   "cell_type": "code",
   "execution_count": null,
   "id": "e6c571bd-5143-4e46-b74b-c21f04b05ddc",
   "metadata": {},
   "outputs": [],
   "source": []
  },
  {
   "cell_type": "code",
   "execution_count": null,
   "id": "47925fac-7607-4517-8451-6a7aad4731b8",
   "metadata": {},
   "outputs": [],
   "source": []
  },
  {
   "cell_type": "code",
   "execution_count": null,
   "id": "5358713f-a7eb-4f36-a4db-baf0f2165a15",
   "metadata": {},
   "outputs": [],
   "source": []
  },
  {
   "cell_type": "code",
   "execution_count": null,
   "id": "5c5ef4d4-f0ac-41c6-a2fb-0f6122265c77",
   "metadata": {},
   "outputs": [],
   "source": []
  },
  {
   "cell_type": "code",
   "execution_count": null,
   "id": "f6cfa802-34b5-40e7-8c45-c649a30aa7e2",
   "metadata": {},
   "outputs": [],
   "source": []
  },
  {
   "cell_type": "code",
   "execution_count": null,
   "id": "65e0e277-e3f4-4fdd-8c2a-b82934fa9cfb",
   "metadata": {},
   "outputs": [],
   "source": []
  },
  {
   "cell_type": "code",
   "execution_count": null,
   "id": "248bac42-f2b6-4526-a8b4-dba7356d7267",
   "metadata": {},
   "outputs": [],
   "source": []
  },
  {
   "cell_type": "code",
   "execution_count": null,
   "id": "1de04a98-8fda-4ff1-970d-873ddd38cf1f",
   "metadata": {},
   "outputs": [],
   "source": []
  },
  {
   "cell_type": "code",
   "execution_count": null,
   "id": "c421d648-feb7-4589-b476-f37a80c2a25e",
   "metadata": {},
   "outputs": [],
   "source": []
  },
  {
   "cell_type": "code",
   "execution_count": null,
   "id": "7e9b2087-65e4-4a7b-8df0-39bc27ef25d4",
   "metadata": {},
   "outputs": [],
   "source": []
  },
  {
   "cell_type": "code",
   "execution_count": null,
   "id": "8d819d02-4ee8-47b2-a4c1-35fc94f272f6",
   "metadata": {},
   "outputs": [],
   "source": []
  },
  {
   "cell_type": "code",
   "execution_count": null,
   "id": "0b9331a6-ef13-4381-b6cd-1c4a32c21be0",
   "metadata": {},
   "outputs": [],
   "source": []
  },
  {
   "cell_type": "code",
   "execution_count": null,
   "id": "f1538294-459c-41ef-8b8c-bd16211d7670",
   "metadata": {},
   "outputs": [],
   "source": []
  },
  {
   "cell_type": "code",
   "execution_count": null,
   "id": "d9cbf1a3-d7c6-4323-a72e-acdf8bfdc26c",
   "metadata": {},
   "outputs": [],
   "source": []
  },
  {
   "cell_type": "code",
   "execution_count": null,
   "id": "a8284ce1-d308-4e50-a143-e2a56ce312b7",
   "metadata": {},
   "outputs": [],
   "source": []
  },
  {
   "cell_type": "code",
   "execution_count": null,
   "id": "a7c94048-b50a-4f26-8173-18cfe740c8de",
   "metadata": {},
   "outputs": [],
   "source": []
  },
  {
   "cell_type": "code",
   "execution_count": null,
   "id": "9769e5e8-9ecd-4c0c-bbcd-18d15ad34b02",
   "metadata": {},
   "outputs": [],
   "source": []
  },
  {
   "cell_type": "code",
   "execution_count": null,
   "id": "bc29d393-a5fb-4f67-9f7e-8e240b391d47",
   "metadata": {},
   "outputs": [],
   "source": []
  },
  {
   "cell_type": "code",
   "execution_count": null,
   "id": "f0eb58f8-2ee5-4b23-be04-4d405f4da785",
   "metadata": {},
   "outputs": [],
   "source": []
  },
  {
   "cell_type": "code",
   "execution_count": null,
   "id": "d7446e39-0fab-4c08-a9e9-66f877cd98c1",
   "metadata": {},
   "outputs": [],
   "source": []
  },
  {
   "cell_type": "code",
   "execution_count": null,
   "id": "7ae40c9e-9035-4cb8-9fea-e016537e4b6b",
   "metadata": {},
   "outputs": [],
   "source": []
  },
  {
   "cell_type": "code",
   "execution_count": null,
   "id": "f3cd2a85-d736-4c5f-aaf2-2d3a95e127b1",
   "metadata": {},
   "outputs": [],
   "source": []
  },
  {
   "cell_type": "code",
   "execution_count": null,
   "id": "ca8de11d-8a3c-4552-91b4-594860a3b1e8",
   "metadata": {},
   "outputs": [],
   "source": []
  },
  {
   "cell_type": "code",
   "execution_count": null,
   "id": "30b15da7-fdf8-415d-b48e-0250a4163cdd",
   "metadata": {},
   "outputs": [],
   "source": []
  },
  {
   "cell_type": "code",
   "execution_count": null,
   "id": "b0ba90f0-fa2d-4876-b7b1-4160f8d78d9a",
   "metadata": {},
   "outputs": [],
   "source": []
  },
  {
   "cell_type": "code",
   "execution_count": null,
   "id": "f97477ee-53ef-4607-83ee-a3e775f51e98",
   "metadata": {},
   "outputs": [],
   "source": []
  },
  {
   "cell_type": "code",
   "execution_count": null,
   "id": "f3f0664e-85e5-4877-a834-aa9f0ef2b249",
   "metadata": {},
   "outputs": [],
   "source": []
  },
  {
   "cell_type": "code",
   "execution_count": null,
   "id": "40675242-7153-4509-b525-34dda70db17c",
   "metadata": {},
   "outputs": [],
   "source": []
  },
  {
   "cell_type": "code",
   "execution_count": null,
   "id": "c8eba0a7-da29-449a-ac84-38f58eb2020e",
   "metadata": {},
   "outputs": [],
   "source": []
  },
  {
   "cell_type": "code",
   "execution_count": null,
   "id": "87bd82e2-6000-4708-ab4d-3cafea45558e",
   "metadata": {},
   "outputs": [],
   "source": []
  },
  {
   "cell_type": "code",
   "execution_count": null,
   "id": "b8132fa7-4035-4d1a-a6ec-32578c353b87",
   "metadata": {},
   "outputs": [],
   "source": []
  }
 ],
 "metadata": {
  "kernelspec": {
   "display_name": "Python 3 (ipykernel)",
   "language": "python",
   "name": "python3"
  },
  "language_info": {
   "codemirror_mode": {
    "name": "ipython",
    "version": 3
   },
   "file_extension": ".py",
   "mimetype": "text/x-python",
   "name": "python",
   "nbconvert_exporter": "python",
   "pygments_lexer": "ipython3",
   "version": "3.8.8"
  }
 },
 "nbformat": 4,
 "nbformat_minor": 5
}
